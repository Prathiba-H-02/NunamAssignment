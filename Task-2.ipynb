{
 "cells": [
  {
   "cell_type": "markdown",
   "metadata": {},
   "source": [
    "#### Task 2-\n",
    " -resample the data\n",
    "    - Convert the time serie to datetime format \n",
    "    - resample the data resample('1min')\n",
    "    - convert to csv"
   ]
  },
  {
   "cell_type": "code",
   "execution_count": null,
   "metadata": {},
   "outputs": [],
   "source": [
    "\n",
    "# - df -detail67\n",
    "# - df2 - detailvol\n",
    "# - df3 - detailTemp"
   ]
  },
  {
   "cell_type": "code",
   "execution_count": 2,
   "metadata": {},
   "outputs": [],
   "source": [
    "import pandas as pd"
   ]
  },
  {
   "cell_type": "code",
   "execution_count": 3,
   "metadata": {},
   "outputs": [],
   "source": [
    "df=pd.read_csv('detail.csv')"
   ]
  },
  {
   "cell_type": "code",
   "execution_count": 4,
   "metadata": {},
   "outputs": [],
   "source": [
    "df2=pd.read_csv('detailVol.csv')"
   ]
  },
  {
   "cell_type": "code",
   "execution_count": 5,
   "metadata": {},
   "outputs": [],
   "source": [
    "df3=pd.read_csv('detailTemp.csv')"
   ]
  },
  {
   "cell_type": "code",
   "execution_count": 6,
   "metadata": {},
   "outputs": [
    {
     "data": {
      "text/html": [
       "<div>\n",
       "<style scoped>\n",
       "    .dataframe tbody tr th:only-of-type {\n",
       "        vertical-align: middle;\n",
       "    }\n",
       "\n",
       "    .dataframe tbody tr th {\n",
       "        vertical-align: top;\n",
       "    }\n",
       "\n",
       "    .dataframe thead th {\n",
       "        text-align: right;\n",
       "    }\n",
       "</style>\n",
       "<table border=\"1\" class=\"dataframe\">\n",
       "  <thead>\n",
       "    <tr style=\"text-align: right;\">\n",
       "      <th></th>\n",
       "      <th>Unnamed: 0</th>\n",
       "      <th>Record Index</th>\n",
       "      <th>Status</th>\n",
       "      <th>JumpTo</th>\n",
       "      <th>Cycle</th>\n",
       "      <th>Step</th>\n",
       "      <th>Cur(mA)</th>\n",
       "      <th>Voltage(V)</th>\n",
       "      <th>CapaCity(mAh)</th>\n",
       "      <th>Energy(mWh)</th>\n",
       "      <th>Relative Time(h:min:s.ms)</th>\n",
       "      <th>Absolute Time</th>\n",
       "    </tr>\n",
       "  </thead>\n",
       "  <tbody>\n",
       "    <tr>\n",
       "      <th>0</th>\n",
       "      <td>0</td>\n",
       "      <td>1</td>\n",
       "      <td>Rest</td>\n",
       "      <td>1</td>\n",
       "      <td>1</td>\n",
       "      <td>1</td>\n",
       "      <td>0.0</td>\n",
       "      <td>3.59</td>\n",
       "      <td>0.0</td>\n",
       "      <td>0.0</td>\n",
       "      <td>0:00:00.000</td>\n",
       "      <td>2020-10-10 20:03:39</td>\n",
       "    </tr>\n",
       "    <tr>\n",
       "      <th>1</th>\n",
       "      <td>1</td>\n",
       "      <td>2</td>\n",
       "      <td>Rest</td>\n",
       "      <td>1</td>\n",
       "      <td>1</td>\n",
       "      <td>1</td>\n",
       "      <td>0.0</td>\n",
       "      <td>3.59</td>\n",
       "      <td>0.0</td>\n",
       "      <td>0.0</td>\n",
       "      <td>0:00:01.000</td>\n",
       "      <td>2020-10-10 20:03:40</td>\n",
       "    </tr>\n",
       "    <tr>\n",
       "      <th>2</th>\n",
       "      <td>2</td>\n",
       "      <td>3</td>\n",
       "      <td>Rest</td>\n",
       "      <td>1</td>\n",
       "      <td>1</td>\n",
       "      <td>1</td>\n",
       "      <td>0.0</td>\n",
       "      <td>3.59</td>\n",
       "      <td>0.0</td>\n",
       "      <td>0.0</td>\n",
       "      <td>0:00:02.000</td>\n",
       "      <td>2020-10-10 20:03:41</td>\n",
       "    </tr>\n",
       "    <tr>\n",
       "      <th>3</th>\n",
       "      <td>3</td>\n",
       "      <td>4</td>\n",
       "      <td>Rest</td>\n",
       "      <td>1</td>\n",
       "      <td>1</td>\n",
       "      <td>1</td>\n",
       "      <td>0.0</td>\n",
       "      <td>3.59</td>\n",
       "      <td>0.0</td>\n",
       "      <td>0.0</td>\n",
       "      <td>0:00:03.000</td>\n",
       "      <td>2020-10-10 20:03:42</td>\n",
       "    </tr>\n",
       "    <tr>\n",
       "      <th>4</th>\n",
       "      <td>4</td>\n",
       "      <td>5</td>\n",
       "      <td>Rest</td>\n",
       "      <td>1</td>\n",
       "      <td>1</td>\n",
       "      <td>1</td>\n",
       "      <td>0.0</td>\n",
       "      <td>3.59</td>\n",
       "      <td>0.0</td>\n",
       "      <td>0.0</td>\n",
       "      <td>0:00:04.000</td>\n",
       "      <td>2020-10-10 20:03:43</td>\n",
       "    </tr>\n",
       "  </tbody>\n",
       "</table>\n",
       "</div>"
      ],
      "text/plain": [
       "   Unnamed: 0  Record Index Status  JumpTo  Cycle  Step  Cur(mA)  Voltage(V)  \\\n",
       "0           0             1   Rest       1      1     1      0.0        3.59   \n",
       "1           1             2   Rest       1      1     1      0.0        3.59   \n",
       "2           2             3   Rest       1      1     1      0.0        3.59   \n",
       "3           3             4   Rest       1      1     1      0.0        3.59   \n",
       "4           4             5   Rest       1      1     1      0.0        3.59   \n",
       "\n",
       "   CapaCity(mAh)  Energy(mWh) Relative Time(h:min:s.ms)        Absolute Time  \n",
       "0            0.0          0.0               0:00:00.000  2020-10-10 20:03:39  \n",
       "1            0.0          0.0               0:00:01.000  2020-10-10 20:03:40  \n",
       "2            0.0          0.0               0:00:02.000  2020-10-10 20:03:41  \n",
       "3            0.0          0.0               0:00:03.000  2020-10-10 20:03:42  \n",
       "4            0.0          0.0               0:00:04.000  2020-10-10 20:03:43  "
      ]
     },
     "execution_count": 6,
     "metadata": {},
     "output_type": "execute_result"
    }
   ],
   "source": [
    "df.head()"
   ]
  },
  {
   "cell_type": "code",
   "execution_count": 7,
   "metadata": {},
   "outputs": [
    {
     "data": {
      "text/html": [
       "<div>\n",
       "<style scoped>\n",
       "    .dataframe tbody tr th:only-of-type {\n",
       "        vertical-align: middle;\n",
       "    }\n",
       "\n",
       "    .dataframe tbody tr th {\n",
       "        vertical-align: top;\n",
       "    }\n",
       "\n",
       "    .dataframe thead th {\n",
       "        text-align: right;\n",
       "    }\n",
       "</style>\n",
       "<table border=\"1\" class=\"dataframe\">\n",
       "  <thead>\n",
       "    <tr style=\"text-align: right;\">\n",
       "      <th></th>\n",
       "      <th>Unnamed: 0</th>\n",
       "      <th>Record ID</th>\n",
       "      <th>Step Name</th>\n",
       "      <th>Relative Time(h:min:s.ms)</th>\n",
       "      <th>Realtime</th>\n",
       "      <th>Auxiliary channel TU1 U(V)</th>\n",
       "      <th>Gap of Voltage</th>\n",
       "    </tr>\n",
       "  </thead>\n",
       "  <tbody>\n",
       "    <tr>\n",
       "      <th>0</th>\n",
       "      <td>0</td>\n",
       "      <td>1</td>\n",
       "      <td>Rest</td>\n",
       "      <td>0:00:00.000</td>\n",
       "      <td>2020-10-10 20:03:39</td>\n",
       "      <td>-0.0013</td>\n",
       "      <td>0</td>\n",
       "    </tr>\n",
       "    <tr>\n",
       "      <th>1</th>\n",
       "      <td>1</td>\n",
       "      <td>2</td>\n",
       "      <td>Rest</td>\n",
       "      <td>0:00:01.000</td>\n",
       "      <td>2020-10-10 20:03:40</td>\n",
       "      <td>-0.0013</td>\n",
       "      <td>0</td>\n",
       "    </tr>\n",
       "    <tr>\n",
       "      <th>2</th>\n",
       "      <td>2</td>\n",
       "      <td>3</td>\n",
       "      <td>Rest</td>\n",
       "      <td>0:00:02.000</td>\n",
       "      <td>2020-10-10 20:03:41</td>\n",
       "      <td>-0.0013</td>\n",
       "      <td>0</td>\n",
       "    </tr>\n",
       "    <tr>\n",
       "      <th>3</th>\n",
       "      <td>3</td>\n",
       "      <td>4</td>\n",
       "      <td>Rest</td>\n",
       "      <td>0:00:03.000</td>\n",
       "      <td>2020-10-10 20:03:42</td>\n",
       "      <td>-0.0013</td>\n",
       "      <td>0</td>\n",
       "    </tr>\n",
       "    <tr>\n",
       "      <th>4</th>\n",
       "      <td>4</td>\n",
       "      <td>5</td>\n",
       "      <td>Rest</td>\n",
       "      <td>0:00:04.000</td>\n",
       "      <td>2020-10-10 20:03:43</td>\n",
       "      <td>-0.0012</td>\n",
       "      <td>0</td>\n",
       "    </tr>\n",
       "  </tbody>\n",
       "</table>\n",
       "</div>"
      ],
      "text/plain": [
       "   Unnamed: 0  Record ID Step Name Relative Time(h:min:s.ms)  \\\n",
       "0           0          1      Rest               0:00:00.000   \n",
       "1           1          2      Rest               0:00:01.000   \n",
       "2           2          3      Rest               0:00:02.000   \n",
       "3           3          4      Rest               0:00:03.000   \n",
       "4           4          5      Rest               0:00:04.000   \n",
       "\n",
       "              Realtime  Auxiliary channel TU1 U(V)  Gap of Voltage  \n",
       "0  2020-10-10 20:03:39                     -0.0013               0  \n",
       "1  2020-10-10 20:03:40                     -0.0013               0  \n",
       "2  2020-10-10 20:03:41                     -0.0013               0  \n",
       "3  2020-10-10 20:03:42                     -0.0013               0  \n",
       "4  2020-10-10 20:03:43                     -0.0012               0  "
      ]
     },
     "execution_count": 7,
     "metadata": {},
     "output_type": "execute_result"
    }
   ],
   "source": [
    "df2.head()"
   ]
  },
  {
   "cell_type": "code",
   "execution_count": 9,
   "metadata": {},
   "outputs": [
    {
     "data": {
      "text/html": [
       "<div>\n",
       "<style scoped>\n",
       "    .dataframe tbody tr th:only-of-type {\n",
       "        vertical-align: middle;\n",
       "    }\n",
       "\n",
       "    .dataframe tbody tr th {\n",
       "        vertical-align: top;\n",
       "    }\n",
       "\n",
       "    .dataframe thead th {\n",
       "        text-align: right;\n",
       "    }\n",
       "</style>\n",
       "<table border=\"1\" class=\"dataframe\">\n",
       "  <thead>\n",
       "    <tr style=\"text-align: right;\">\n",
       "      <th></th>\n",
       "      <th>Unnamed: 0</th>\n",
       "      <th>Record ID</th>\n",
       "      <th>Step Name</th>\n",
       "      <th>Relative Time(h:min:s.ms)</th>\n",
       "      <th>Realtime</th>\n",
       "      <th>Auxiliary channel TU1 T(°C)</th>\n",
       "      <th>Gap of Temperature</th>\n",
       "    </tr>\n",
       "  </thead>\n",
       "  <tbody>\n",
       "    <tr>\n",
       "      <th>0</th>\n",
       "      <td>0</td>\n",
       "      <td>1</td>\n",
       "      <td>Rest</td>\n",
       "      <td>0:00:00.000</td>\n",
       "      <td>2020-10-10 20:03:39</td>\n",
       "      <td>27.7</td>\n",
       "      <td>0</td>\n",
       "    </tr>\n",
       "    <tr>\n",
       "      <th>1</th>\n",
       "      <td>1</td>\n",
       "      <td>2</td>\n",
       "      <td>Rest</td>\n",
       "      <td>0:00:01.000</td>\n",
       "      <td>2020-10-10 20:03:40</td>\n",
       "      <td>27.7</td>\n",
       "      <td>0</td>\n",
       "    </tr>\n",
       "    <tr>\n",
       "      <th>2</th>\n",
       "      <td>2</td>\n",
       "      <td>3</td>\n",
       "      <td>Rest</td>\n",
       "      <td>0:00:02.000</td>\n",
       "      <td>2020-10-10 20:03:41</td>\n",
       "      <td>27.7</td>\n",
       "      <td>0</td>\n",
       "    </tr>\n",
       "    <tr>\n",
       "      <th>3</th>\n",
       "      <td>3</td>\n",
       "      <td>4</td>\n",
       "      <td>Rest</td>\n",
       "      <td>0:00:03.000</td>\n",
       "      <td>2020-10-10 20:03:42</td>\n",
       "      <td>27.7</td>\n",
       "      <td>0</td>\n",
       "    </tr>\n",
       "    <tr>\n",
       "      <th>4</th>\n",
       "      <td>4</td>\n",
       "      <td>5</td>\n",
       "      <td>Rest</td>\n",
       "      <td>0:00:04.000</td>\n",
       "      <td>2020-10-10 20:03:43</td>\n",
       "      <td>27.7</td>\n",
       "      <td>0</td>\n",
       "    </tr>\n",
       "    <tr>\n",
       "      <th>...</th>\n",
       "      <td>...</td>\n",
       "      <td>...</td>\n",
       "      <td>...</td>\n",
       "      <td>...</td>\n",
       "      <td>...</td>\n",
       "      <td>...</td>\n",
       "      <td>...</td>\n",
       "    </tr>\n",
       "    <tr>\n",
       "      <th>416676</th>\n",
       "      <td>23466</td>\n",
       "      <td>458630</td>\n",
       "      <td>Rest</td>\n",
       "      <td>0:09:56.000</td>\n",
       "      <td>2020-10-16 03:25:35</td>\n",
       "      <td>28.4</td>\n",
       "      <td>0</td>\n",
       "    </tr>\n",
       "    <tr>\n",
       "      <th>416677</th>\n",
       "      <td>23467</td>\n",
       "      <td>458631</td>\n",
       "      <td>Rest</td>\n",
       "      <td>0:09:57.000</td>\n",
       "      <td>2020-10-16 03:25:36</td>\n",
       "      <td>28.4</td>\n",
       "      <td>0</td>\n",
       "    </tr>\n",
       "    <tr>\n",
       "      <th>416678</th>\n",
       "      <td>23468</td>\n",
       "      <td>458632</td>\n",
       "      <td>Rest</td>\n",
       "      <td>0:09:58.000</td>\n",
       "      <td>2020-10-16 03:25:37</td>\n",
       "      <td>28.4</td>\n",
       "      <td>0</td>\n",
       "    </tr>\n",
       "    <tr>\n",
       "      <th>416679</th>\n",
       "      <td>23469</td>\n",
       "      <td>458633</td>\n",
       "      <td>Rest</td>\n",
       "      <td>0:09:59.000</td>\n",
       "      <td>2020-10-16 03:25:38</td>\n",
       "      <td>28.4</td>\n",
       "      <td>0</td>\n",
       "    </tr>\n",
       "    <tr>\n",
       "      <th>416680</th>\n",
       "      <td>23470</td>\n",
       "      <td>458634</td>\n",
       "      <td>Rest</td>\n",
       "      <td>0:10:00.000</td>\n",
       "      <td>2020-10-16 03:25:39</td>\n",
       "      <td>28.4</td>\n",
       "      <td>0</td>\n",
       "    </tr>\n",
       "  </tbody>\n",
       "</table>\n",
       "<p>416681 rows × 7 columns</p>\n",
       "</div>"
      ],
      "text/plain": [
       "        Unnamed: 0  Record ID Step Name Relative Time(h:min:s.ms)  \\\n",
       "0                0          1      Rest               0:00:00.000   \n",
       "1                1          2      Rest               0:00:01.000   \n",
       "2                2          3      Rest               0:00:02.000   \n",
       "3                3          4      Rest               0:00:03.000   \n",
       "4                4          5      Rest               0:00:04.000   \n",
       "...            ...        ...       ...                       ...   \n",
       "416676       23466     458630      Rest               0:09:56.000   \n",
       "416677       23467     458631      Rest               0:09:57.000   \n",
       "416678       23468     458632      Rest               0:09:58.000   \n",
       "416679       23469     458633      Rest               0:09:59.000   \n",
       "416680       23470     458634      Rest               0:10:00.000   \n",
       "\n",
       "                   Realtime  Auxiliary channel TU1 T(°C)  Gap of Temperature  \n",
       "0       2020-10-10 20:03:39                         27.7                   0  \n",
       "1       2020-10-10 20:03:40                         27.7                   0  \n",
       "2       2020-10-10 20:03:41                         27.7                   0  \n",
       "3       2020-10-10 20:03:42                         27.7                   0  \n",
       "4       2020-10-10 20:03:43                         27.7                   0  \n",
       "...                     ...                          ...                 ...  \n",
       "416676  2020-10-16 03:25:35                         28.4                   0  \n",
       "416677  2020-10-16 03:25:36                         28.4                   0  \n",
       "416678  2020-10-16 03:25:37                         28.4                   0  \n",
       "416679  2020-10-16 03:25:38                         28.4                   0  \n",
       "416680  2020-10-16 03:25:39                         28.4                   0  \n",
       "\n",
       "[416681 rows x 7 columns]"
      ]
     },
     "execution_count": 9,
     "metadata": {},
     "output_type": "execute_result"
    }
   ],
   "source": [
    "df3"
   ]
  },
  {
   "cell_type": "code",
   "execution_count": 10,
   "metadata": {},
   "outputs": [
    {
     "data": {
      "text/plain": [
       "Unnamed: 0                     int64\n",
       "Record Index                   int64\n",
       "Status                        object\n",
       "JumpTo                         int64\n",
       "Cycle                          int64\n",
       "Step                           int64\n",
       "Cur(mA)                      float64\n",
       "Voltage(V)                   float64\n",
       "CapaCity(mAh)                float64\n",
       "Energy(mWh)                  float64\n",
       "Relative Time(h:min:s.ms)     object\n",
       "Absolute Time                 object\n",
       "dtype: object"
      ]
     },
     "execution_count": 10,
     "metadata": {},
     "output_type": "execute_result"
    }
   ],
   "source": [
    "df.dtypes"
   ]
  },
  {
   "cell_type": "code",
   "execution_count": 11,
   "metadata": {},
   "outputs": [
    {
     "data": {
      "text/plain": [
       "array(['Rest', 'CCCV_DChg', 'CCCV_Chg'], dtype=object)"
      ]
     },
     "execution_count": 11,
     "metadata": {},
     "output_type": "execute_result"
    }
   ],
   "source": [
    "df['Status'].unique()"
   ]
  },
  {
   "cell_type": "code",
   "execution_count": 12,
   "metadata": {},
   "outputs": [],
   "source": [
    "from sklearn import preprocessing\n",
    "l=preprocessing.LabelEncoder()\n",
    "l.fit(df['Status'])\n",
    "df['Status']=l.transform(df['Status'])"
   ]
  },
  {
   "cell_type": "code",
   "execution_count": 13,
   "metadata": {},
   "outputs": [
    {
     "data": {
      "text/plain": [
       "0         2\n",
       "1         2\n",
       "2         2\n",
       "3         2\n",
       "4         2\n",
       "         ..\n",
       "416676    2\n",
       "416677    2\n",
       "416678    2\n",
       "416679    2\n",
       "416680    2\n",
       "Name: Status, Length: 416681, dtype: int32"
      ]
     },
     "execution_count": 13,
     "metadata": {},
     "output_type": "execute_result"
    }
   ],
   "source": [
    "df['Status']"
   ]
  },
  {
   "cell_type": "code",
   "execution_count": 14,
   "metadata": {},
   "outputs": [
    {
     "data": {
      "text/plain": [
       "array(['Rest', 'CCCV_DChg', 'CCCV_Chg'], dtype=object)"
      ]
     },
     "execution_count": 14,
     "metadata": {},
     "output_type": "execute_result"
    }
   ],
   "source": [
    "df2['Step Name'].unique()"
   ]
  },
  {
   "cell_type": "code",
   "execution_count": 15,
   "metadata": {},
   "outputs": [
    {
     "data": {
      "text/plain": [
       "array(['Rest', 'CCCV_DChg', 'CCCV_Chg'], dtype=object)"
      ]
     },
     "execution_count": 15,
     "metadata": {},
     "output_type": "execute_result"
    }
   ],
   "source": [
    "df3['Step Name'].unique()"
   ]
  },
  {
   "cell_type": "code",
   "execution_count": 16,
   "metadata": {},
   "outputs": [],
   "source": [
    "l=preprocessing.LabelEncoder()\n",
    "l.fit(df2['Step Name'])\n",
    "df2['Step Name']=l.transform(df2['Step Name'])"
   ]
  },
  {
   "cell_type": "code",
   "execution_count": 17,
   "metadata": {},
   "outputs": [],
   "source": [
    "l=preprocessing.LabelEncoder()\n",
    "l.fit(df3['Step Name'])\n",
    "df3['Step Name']=l.transform(df3['Step Name'])"
   ]
  },
  {
   "cell_type": "code",
   "execution_count": 18,
   "metadata": {},
   "outputs": [
    {
     "data": {
      "text/plain": [
       "Unnamed: 0                      int64\n",
       "Record ID                       int64\n",
       "Step Name                       int32\n",
       "Relative Time(h:min:s.ms)      object\n",
       "Realtime                       object\n",
       "Auxiliary channel TU1 U(V)    float64\n",
       "Gap of Voltage                  int64\n",
       "dtype: object"
      ]
     },
     "execution_count": 18,
     "metadata": {},
     "output_type": "execute_result"
    }
   ],
   "source": [
    "df2.dtypes"
   ]
  },
  {
   "cell_type": "code",
   "execution_count": 19,
   "metadata": {},
   "outputs": [
    {
     "data": {
      "text/plain": [
       "Unnamed: 0                       int64\n",
       "Record ID                        int64\n",
       "Step Name                        int32\n",
       "Relative Time(h:min:s.ms)       object\n",
       "Realtime                        object\n",
       "Auxiliary channel TU1 T(°C)    float64\n",
       "Gap of Temperature               int64\n",
       "dtype: object"
      ]
     },
     "execution_count": 19,
     "metadata": {},
     "output_type": "execute_result"
    }
   ],
   "source": [
    "df3.dtypes"
   ]
  },
  {
   "cell_type": "markdown",
   "metadata": {},
   "source": [
    "#### Converting a sample data of Absolute time into datetime format"
   ]
  },
  {
   "cell_type": "code",
   "execution_count": 21,
   "metadata": {},
   "outputs": [],
   "source": [
    "x=df['Absolute Time'][0]"
   ]
  },
  {
   "cell_type": "code",
   "execution_count": 22,
   "metadata": {},
   "outputs": [
    {
     "data": {
      "text/plain": [
       "'2020-10-10 20:03:40'"
      ]
     },
     "execution_count": 22,
     "metadata": {},
     "output_type": "execute_result"
    }
   ],
   "source": [
    "df['Absolute Time'][1]"
   ]
  },
  {
   "cell_type": "code",
   "execution_count": 24,
   "metadata": {},
   "outputs": [],
   "source": [
    "from datetime import datetime"
   ]
  },
  {
   "cell_type": "code",
   "execution_count": 25,
   "metadata": {},
   "outputs": [],
   "source": [
    "datex = datetime.strptime(x, '%Y-%m-%d %H:%M:%S')"
   ]
  },
  {
   "cell_type": "code",
   "execution_count": 26,
   "metadata": {},
   "outputs": [
    {
     "data": {
      "text/plain": [
       "datetime.datetime"
      ]
     },
     "execution_count": 26,
     "metadata": {},
     "output_type": "execute_result"
    }
   ],
   "source": [
    "type(datex)"
   ]
  },
  {
   "cell_type": "markdown",
   "metadata": {},
   "source": [
    "#### df- Absolute time Detail_67 to datetime"
   ]
  },
  {
   "cell_type": "code",
   "execution_count": 27,
   "metadata": {},
   "outputs": [
    {
     "name": "stderr",
     "output_type": "stream",
     "text": [
      "<ipython-input-27-02b22b88f914>:2: SettingWithCopyWarning: \n",
      "A value is trying to be set on a copy of a slice from a DataFrame\n",
      "\n",
      "See the caveats in the documentation: https://pandas.pydata.org/pandas-docs/stable/user_guide/indexing.html#returning-a-view-versus-a-copy\n",
      "  df['Absolute Time'][i]= datetime.strptime(df['Absolute Time'][i],'%Y-%m-%d %H:%M:%S')\n"
     ]
    }
   ],
   "source": [
    "for i in range(len(df)):\n",
    "    df['Absolute Time'][i]= datetime.strptime(df['Absolute Time'][i],'%Y-%m-%d %H:%M:%S')"
   ]
  },
  {
   "cell_type": "code",
   "execution_count": 28,
   "metadata": {},
   "outputs": [
    {
     "data": {
      "text/plain": [
       "datetime.datetime(2020, 10, 10, 20, 3, 43)"
      ]
     },
     "execution_count": 28,
     "metadata": {},
     "output_type": "execute_result"
    }
   ],
   "source": [
    "df['Absolute Time'][4]"
   ]
  },
  {
   "cell_type": "code",
   "execution_count": null,
   "metadata": {},
   "outputs": [],
   "source": [
    "stopped"
   ]
  },
  {
   "cell_type": "markdown",
   "metadata": {},
   "source": [
    "#### df- Relative time Detail_67 to datetime"
   ]
  },
  {
   "cell_type": "code",
   "execution_count": 55,
   "metadata": {},
   "outputs": [
    {
     "name": "stderr",
     "output_type": "stream",
     "text": [
      "<ipython-input-55-bb5afd1dfa5c>:2: SettingWithCopyWarning: \n",
      "A value is trying to be set on a copy of a slice from a DataFrame\n",
      "\n",
      "See the caveats in the documentation: https://pandas.pydata.org/pandas-docs/stable/user_guide/indexing.html#returning-a-view-versus-a-copy\n",
      "  df['Relative Time(h:min:s.ms)'][i]= datetime.strptime(df['Relative Time(h:min:s.ms)'][i],'%H:%M:%S.%f')\n"
     ]
    }
   ],
   "source": [
    "for i in range(len(df)):\n",
    "    df['Relative Time(h:min:s.ms)'][i]= datetime.strptime(df['Relative Time(h:min:s.ms)'][i],'%H:%M:%S.%f')"
   ]
  },
  {
   "cell_type": "markdown",
   "metadata": {},
   "source": [
    "#### df2- Real time  DetailVol_"
   ]
  },
  {
   "cell_type": "code",
   "execution_count": 30,
   "metadata": {},
   "outputs": [
    {
     "name": "stderr",
     "output_type": "stream",
     "text": [
      "<ipython-input-30-aa546223fed0>:2: SettingWithCopyWarning: \n",
      "A value is trying to be set on a copy of a slice from a DataFrame\n",
      "\n",
      "See the caveats in the documentation: https://pandas.pydata.org/pandas-docs/stable/user_guide/indexing.html#returning-a-view-versus-a-copy\n",
      "  df2['Realtime'][i]= datetime.strptime(df2['Realtime'][i],'%Y-%m-%d %H:%M:%S')\n"
     ]
    }
   ],
   "source": [
    "for i in range(len(df2)):\n",
    "    df2['Realtime'][i]= datetime.strptime(df2['Realtime'][i],'%Y-%m-%d %H:%M:%S')"
   ]
  },
  {
   "cell_type": "markdown",
   "metadata": {},
   "source": [
    "#### df2- Relative time  DetailVol_"
   ]
  },
  {
   "cell_type": "code",
   "execution_count": 83,
   "metadata": {},
   "outputs": [],
   "source": [
    "for i in range(len(df2)):\n",
    "    df2['Relative Time(h:min:s.ms)'][i]= datetime.strptime(df2['Relative Time(h:min:s.ms)'][i],'%H:%M:%S.%f')"
   ]
  },
  {
   "cell_type": "markdown",
   "metadata": {},
   "source": [
    "#### df3- Real time DetailTemp_"
   ]
  },
  {
   "cell_type": "code",
   "execution_count": null,
   "metadata": {},
   "outputs": [],
   "source": [
    "for i in range(len(df3)):\n",
    "    df3['Realtime'][i]= datetime.strptime(df3['Realtime'][i],'%Y-%m-%d %H:%M:%S')"
   ]
  },
  {
   "cell_type": "code",
   "execution_count": null,
   "metadata": {},
   "outputs": [],
   "source": [
    "#### df3- Relative time DetailTemp_"
   ]
  },
  {
   "cell_type": "code",
   "execution_count": null,
   "metadata": {},
   "outputs": [],
   "source": [
    "for i in range(len(df3)):\n",
    "    df3['Relative Time(h:min:s.ms)'][i]= datetime.strptime(df3['Relative Time(h:min:s.ms)'][i],'%H:%M:%S.%f')"
   ]
  },
  {
   "cell_type": "markdown",
   "metadata": {},
   "source": [
    "#### resampling Detail67, DetailVol,DetailTemp\n",
    "- Downsampling : resample at lower rate"
   ]
  },
  {
   "cell_type": "code",
   "execution_count": 73,
   "metadata": {},
   "outputs": [],
   "source": [
    "dfmin=df.resample('1Min',on='Absolute Time').mean().dropna()"
   ]
  },
  {
   "cell_type": "code",
   "execution_count": 74,
   "metadata": {},
   "outputs": [
    {
     "data": {
      "text/html": [
       "<div>\n",
       "<style scoped>\n",
       "    .dataframe tbody tr th:only-of-type {\n",
       "        vertical-align: middle;\n",
       "    }\n",
       "\n",
       "    .dataframe tbody tr th {\n",
       "        vertical-align: top;\n",
       "    }\n",
       "\n",
       "    .dataframe thead th {\n",
       "        text-align: right;\n",
       "    }\n",
       "</style>\n",
       "<table border=\"1\" class=\"dataframe\">\n",
       "  <thead>\n",
       "    <tr style=\"text-align: right;\">\n",
       "      <th></th>\n",
       "      <th>Unnamed: 0</th>\n",
       "      <th>Record Index</th>\n",
       "      <th>Status</th>\n",
       "      <th>JumpTo</th>\n",
       "      <th>Cycle</th>\n",
       "      <th>Step</th>\n",
       "      <th>Cur(mA)</th>\n",
       "      <th>Voltage(V)</th>\n",
       "      <th>CapaCity(mAh)</th>\n",
       "      <th>Energy(mWh)</th>\n",
       "    </tr>\n",
       "    <tr>\n",
       "      <th>Absolute Time</th>\n",
       "      <th></th>\n",
       "      <th></th>\n",
       "      <th></th>\n",
       "      <th></th>\n",
       "      <th></th>\n",
       "      <th></th>\n",
       "      <th></th>\n",
       "      <th></th>\n",
       "      <th></th>\n",
       "      <th></th>\n",
       "    </tr>\n",
       "  </thead>\n",
       "  <tbody>\n",
       "    <tr>\n",
       "      <th>2020-10-10 20:03:00</th>\n",
       "      <td>11.0</td>\n",
       "      <td>12.0</td>\n",
       "      <td>1.347826</td>\n",
       "      <td>2.391304</td>\n",
       "      <td>1.0</td>\n",
       "      <td>2.391304</td>\n",
       "      <td>-567.456522</td>\n",
       "      <td>3.523887</td>\n",
       "      <td>1.103388</td>\n",
       "      <td>3.852566</td>\n",
       "    </tr>\n",
       "    <tr>\n",
       "      <th>2020-10-10 20:04:00</th>\n",
       "      <td>52.5</td>\n",
       "      <td>53.5</td>\n",
       "      <td>1.000000</td>\n",
       "      <td>3.000000</td>\n",
       "      <td>1.0</td>\n",
       "      <td>3.000000</td>\n",
       "      <td>-870.100000</td>\n",
       "      <td>3.445677</td>\n",
       "      <td>10.755394</td>\n",
       "      <td>37.277079</td>\n",
       "    </tr>\n",
       "    <tr>\n",
       "      <th>2020-10-10 20:05:00</th>\n",
       "      <td>112.5</td>\n",
       "      <td>113.5</td>\n",
       "      <td>1.000000</td>\n",
       "      <td>3.000000</td>\n",
       "      <td>1.0</td>\n",
       "      <td>3.000000</td>\n",
       "      <td>-870.100000</td>\n",
       "      <td>3.390738</td>\n",
       "      <td>25.257193</td>\n",
       "      <td>86.840222</td>\n",
       "    </tr>\n",
       "    <tr>\n",
       "      <th>2020-10-10 20:06:00</th>\n",
       "      <td>172.5</td>\n",
       "      <td>173.5</td>\n",
       "      <td>1.000000</td>\n",
       "      <td>3.000000</td>\n",
       "      <td>1.0</td>\n",
       "      <td>3.000000</td>\n",
       "      <td>-870.100000</td>\n",
       "      <td>3.332892</td>\n",
       "      <td>39.759002</td>\n",
       "      <td>135.602305</td>\n",
       "    </tr>\n",
       "    <tr>\n",
       "      <th>2020-10-10 20:07:00</th>\n",
       "      <td>232.5</td>\n",
       "      <td>233.5</td>\n",
       "      <td>1.000000</td>\n",
       "      <td>3.000000</td>\n",
       "      <td>1.0</td>\n",
       "      <td>3.000000</td>\n",
       "      <td>-870.100000</td>\n",
       "      <td>3.261232</td>\n",
       "      <td>54.260813</td>\n",
       "      <td>183.437343</td>\n",
       "    </tr>\n",
       "    <tr>\n",
       "      <th>...</th>\n",
       "      <td>...</td>\n",
       "      <td>...</td>\n",
       "      <td>...</td>\n",
       "      <td>...</td>\n",
       "      <td>...</td>\n",
       "      <td>...</td>\n",
       "      <td>...</td>\n",
       "      <td>...</td>\n",
       "      <td>...</td>\n",
       "      <td>...</td>\n",
       "    </tr>\n",
       "    <tr>\n",
       "      <th>2020-10-16 03:21:00</th>\n",
       "      <td>23220.5</td>\n",
       "      <td>458384.5</td>\n",
       "      <td>2.000000</td>\n",
       "      <td>108.000000</td>\n",
       "      <td>21.0</td>\n",
       "      <td>83.000000</td>\n",
       "      <td>0.000000</td>\n",
       "      <td>3.585902</td>\n",
       "      <td>0.000000</td>\n",
       "      <td>0.000000</td>\n",
       "    </tr>\n",
       "    <tr>\n",
       "      <th>2020-10-16 03:22:00</th>\n",
       "      <td>23280.5</td>\n",
       "      <td>458444.5</td>\n",
       "      <td>2.000000</td>\n",
       "      <td>108.000000</td>\n",
       "      <td>21.0</td>\n",
       "      <td>83.000000</td>\n",
       "      <td>0.000000</td>\n",
       "      <td>3.585710</td>\n",
       "      <td>0.000000</td>\n",
       "      <td>0.000000</td>\n",
       "    </tr>\n",
       "    <tr>\n",
       "      <th>2020-10-16 03:23:00</th>\n",
       "      <td>23340.5</td>\n",
       "      <td>458504.5</td>\n",
       "      <td>2.000000</td>\n",
       "      <td>108.000000</td>\n",
       "      <td>21.0</td>\n",
       "      <td>83.000000</td>\n",
       "      <td>0.000000</td>\n",
       "      <td>3.585620</td>\n",
       "      <td>0.000000</td>\n",
       "      <td>0.000000</td>\n",
       "    </tr>\n",
       "    <tr>\n",
       "      <th>2020-10-16 03:24:00</th>\n",
       "      <td>23400.5</td>\n",
       "      <td>458564.5</td>\n",
       "      <td>2.000000</td>\n",
       "      <td>108.000000</td>\n",
       "      <td>21.0</td>\n",
       "      <td>83.000000</td>\n",
       "      <td>0.000000</td>\n",
       "      <td>3.585570</td>\n",
       "      <td>0.000000</td>\n",
       "      <td>0.000000</td>\n",
       "    </tr>\n",
       "    <tr>\n",
       "      <th>2020-10-16 03:25:00</th>\n",
       "      <td>23450.5</td>\n",
       "      <td>458614.5</td>\n",
       "      <td>2.000000</td>\n",
       "      <td>108.000000</td>\n",
       "      <td>21.0</td>\n",
       "      <td>83.000000</td>\n",
       "      <td>0.000000</td>\n",
       "      <td>3.585480</td>\n",
       "      <td>0.000000</td>\n",
       "      <td>0.000000</td>\n",
       "    </tr>\n",
       "  </tbody>\n",
       "</table>\n",
       "<p>6944 rows × 10 columns</p>\n",
       "</div>"
      ],
      "text/plain": [
       "                     Unnamed: 0  Record Index    Status      JumpTo  Cycle  \\\n",
       "Absolute Time                                                                \n",
       "2020-10-10 20:03:00        11.0          12.0  1.347826    2.391304    1.0   \n",
       "2020-10-10 20:04:00        52.5          53.5  1.000000    3.000000    1.0   \n",
       "2020-10-10 20:05:00       112.5         113.5  1.000000    3.000000    1.0   \n",
       "2020-10-10 20:06:00       172.5         173.5  1.000000    3.000000    1.0   \n",
       "2020-10-10 20:07:00       232.5         233.5  1.000000    3.000000    1.0   \n",
       "...                         ...           ...       ...         ...    ...   \n",
       "2020-10-16 03:21:00     23220.5      458384.5  2.000000  108.000000   21.0   \n",
       "2020-10-16 03:22:00     23280.5      458444.5  2.000000  108.000000   21.0   \n",
       "2020-10-16 03:23:00     23340.5      458504.5  2.000000  108.000000   21.0   \n",
       "2020-10-16 03:24:00     23400.5      458564.5  2.000000  108.000000   21.0   \n",
       "2020-10-16 03:25:00     23450.5      458614.5  2.000000  108.000000   21.0   \n",
       "\n",
       "                          Step     Cur(mA)  Voltage(V)  CapaCity(mAh)  \\\n",
       "Absolute Time                                                           \n",
       "2020-10-10 20:03:00   2.391304 -567.456522    3.523887       1.103388   \n",
       "2020-10-10 20:04:00   3.000000 -870.100000    3.445677      10.755394   \n",
       "2020-10-10 20:05:00   3.000000 -870.100000    3.390738      25.257193   \n",
       "2020-10-10 20:06:00   3.000000 -870.100000    3.332892      39.759002   \n",
       "2020-10-10 20:07:00   3.000000 -870.100000    3.261232      54.260813   \n",
       "...                        ...         ...         ...            ...   \n",
       "2020-10-16 03:21:00  83.000000    0.000000    3.585902       0.000000   \n",
       "2020-10-16 03:22:00  83.000000    0.000000    3.585710       0.000000   \n",
       "2020-10-16 03:23:00  83.000000    0.000000    3.585620       0.000000   \n",
       "2020-10-16 03:24:00  83.000000    0.000000    3.585570       0.000000   \n",
       "2020-10-16 03:25:00  83.000000    0.000000    3.585480       0.000000   \n",
       "\n",
       "                     Energy(mWh)  \n",
       "Absolute Time                     \n",
       "2020-10-10 20:03:00     3.852566  \n",
       "2020-10-10 20:04:00    37.277079  \n",
       "2020-10-10 20:05:00    86.840222  \n",
       "2020-10-10 20:06:00   135.602305  \n",
       "2020-10-10 20:07:00   183.437343  \n",
       "...                          ...  \n",
       "2020-10-16 03:21:00     0.000000  \n",
       "2020-10-16 03:22:00     0.000000  \n",
       "2020-10-16 03:23:00     0.000000  \n",
       "2020-10-16 03:24:00     0.000000  \n",
       "2020-10-16 03:25:00     0.000000  \n",
       "\n",
       "[6944 rows x 10 columns]"
      ]
     },
     "execution_count": 74,
     "metadata": {},
     "output_type": "execute_result"
    }
   ],
   "source": [
    "dfmin"
   ]
  },
  {
   "cell_type": "code",
   "execution_count": 68,
   "metadata": {},
   "outputs": [],
   "source": [
    "df2min=df2.resample('1Min',on='Realtime').mean().dropna()"
   ]
  },
  {
   "cell_type": "code",
   "execution_count": 76,
   "metadata": {},
   "outputs": [
    {
     "data": {
      "text/html": [
       "<div>\n",
       "<style scoped>\n",
       "    .dataframe tbody tr th:only-of-type {\n",
       "        vertical-align: middle;\n",
       "    }\n",
       "\n",
       "    .dataframe tbody tr th {\n",
       "        vertical-align: top;\n",
       "    }\n",
       "\n",
       "    .dataframe thead th {\n",
       "        text-align: right;\n",
       "    }\n",
       "</style>\n",
       "<table border=\"1\" class=\"dataframe\">\n",
       "  <thead>\n",
       "    <tr style=\"text-align: right;\">\n",
       "      <th></th>\n",
       "      <th>Unnamed: 0</th>\n",
       "      <th>Record ID</th>\n",
       "      <th>Step Name</th>\n",
       "      <th>Auxiliary channel TU1 U(V)</th>\n",
       "      <th>Gap of Voltage</th>\n",
       "    </tr>\n",
       "    <tr>\n",
       "      <th>Realtime</th>\n",
       "      <th></th>\n",
       "      <th></th>\n",
       "      <th></th>\n",
       "      <th></th>\n",
       "      <th></th>\n",
       "    </tr>\n",
       "  </thead>\n",
       "  <tbody>\n",
       "    <tr>\n",
       "      <th>2020-10-10 20:03:00</th>\n",
       "      <td>11.0</td>\n",
       "      <td>12.0</td>\n",
       "      <td>1.347826</td>\n",
       "      <td>-0.001296</td>\n",
       "      <td>0.0</td>\n",
       "    </tr>\n",
       "    <tr>\n",
       "      <th>2020-10-10 20:04:00</th>\n",
       "      <td>52.5</td>\n",
       "      <td>53.5</td>\n",
       "      <td>1.000000</td>\n",
       "      <td>-0.001270</td>\n",
       "      <td>0.0</td>\n",
       "    </tr>\n",
       "    <tr>\n",
       "      <th>2020-10-10 20:05:00</th>\n",
       "      <td>112.5</td>\n",
       "      <td>113.5</td>\n",
       "      <td>1.000000</td>\n",
       "      <td>-0.001282</td>\n",
       "      <td>0.0</td>\n",
       "    </tr>\n",
       "    <tr>\n",
       "      <th>2020-10-10 20:06:00</th>\n",
       "      <td>172.5</td>\n",
       "      <td>173.5</td>\n",
       "      <td>1.000000</td>\n",
       "      <td>-0.001287</td>\n",
       "      <td>0.0</td>\n",
       "    </tr>\n",
       "    <tr>\n",
       "      <th>2020-10-10 20:07:00</th>\n",
       "      <td>232.5</td>\n",
       "      <td>233.5</td>\n",
       "      <td>1.000000</td>\n",
       "      <td>-0.001275</td>\n",
       "      <td>0.0</td>\n",
       "    </tr>\n",
       "    <tr>\n",
       "      <th>...</th>\n",
       "      <td>...</td>\n",
       "      <td>...</td>\n",
       "      <td>...</td>\n",
       "      <td>...</td>\n",
       "      <td>...</td>\n",
       "    </tr>\n",
       "    <tr>\n",
       "      <th>2020-10-16 03:21:00</th>\n",
       "      <td>23220.5</td>\n",
       "      <td>458384.5</td>\n",
       "      <td>2.000000</td>\n",
       "      <td>-0.001200</td>\n",
       "      <td>0.0</td>\n",
       "    </tr>\n",
       "    <tr>\n",
       "      <th>2020-10-16 03:22:00</th>\n",
       "      <td>23280.5</td>\n",
       "      <td>458444.5</td>\n",
       "      <td>2.000000</td>\n",
       "      <td>-0.001200</td>\n",
       "      <td>0.0</td>\n",
       "    </tr>\n",
       "    <tr>\n",
       "      <th>2020-10-16 03:23:00</th>\n",
       "      <td>23340.5</td>\n",
       "      <td>458504.5</td>\n",
       "      <td>2.000000</td>\n",
       "      <td>-0.001200</td>\n",
       "      <td>0.0</td>\n",
       "    </tr>\n",
       "    <tr>\n",
       "      <th>2020-10-16 03:24:00</th>\n",
       "      <td>23400.5</td>\n",
       "      <td>458564.5</td>\n",
       "      <td>2.000000</td>\n",
       "      <td>-0.001200</td>\n",
       "      <td>0.0</td>\n",
       "    </tr>\n",
       "    <tr>\n",
       "      <th>2020-10-16 03:25:00</th>\n",
       "      <td>23450.5</td>\n",
       "      <td>458614.5</td>\n",
       "      <td>2.000000</td>\n",
       "      <td>-0.001200</td>\n",
       "      <td>0.0</td>\n",
       "    </tr>\n",
       "  </tbody>\n",
       "</table>\n",
       "<p>6944 rows × 5 columns</p>\n",
       "</div>"
      ],
      "text/plain": [
       "                     Unnamed: 0  Record ID  Step Name  \\\n",
       "Realtime                                                \n",
       "2020-10-10 20:03:00        11.0       12.0   1.347826   \n",
       "2020-10-10 20:04:00        52.5       53.5   1.000000   \n",
       "2020-10-10 20:05:00       112.5      113.5   1.000000   \n",
       "2020-10-10 20:06:00       172.5      173.5   1.000000   \n",
       "2020-10-10 20:07:00       232.5      233.5   1.000000   \n",
       "...                         ...        ...        ...   \n",
       "2020-10-16 03:21:00     23220.5   458384.5   2.000000   \n",
       "2020-10-16 03:22:00     23280.5   458444.5   2.000000   \n",
       "2020-10-16 03:23:00     23340.5   458504.5   2.000000   \n",
       "2020-10-16 03:24:00     23400.5   458564.5   2.000000   \n",
       "2020-10-16 03:25:00     23450.5   458614.5   2.000000   \n",
       "\n",
       "                     Auxiliary channel TU1 U(V)  Gap of Voltage  \n",
       "Realtime                                                         \n",
       "2020-10-10 20:03:00                   -0.001296             0.0  \n",
       "2020-10-10 20:04:00                   -0.001270             0.0  \n",
       "2020-10-10 20:05:00                   -0.001282             0.0  \n",
       "2020-10-10 20:06:00                   -0.001287             0.0  \n",
       "2020-10-10 20:07:00                   -0.001275             0.0  \n",
       "...                                         ...             ...  \n",
       "2020-10-16 03:21:00                   -0.001200             0.0  \n",
       "2020-10-16 03:22:00                   -0.001200             0.0  \n",
       "2020-10-16 03:23:00                   -0.001200             0.0  \n",
       "2020-10-16 03:24:00                   -0.001200             0.0  \n",
       "2020-10-16 03:25:00                   -0.001200             0.0  \n",
       "\n",
       "[6944 rows x 5 columns]"
      ]
     },
     "execution_count": 76,
     "metadata": {},
     "output_type": "execute_result"
    }
   ],
   "source": [
    "df2min"
   ]
  },
  {
   "cell_type": "code",
   "execution_count": 79,
   "metadata": {},
   "outputs": [],
   "source": [
    "df3min=df3.resample('1Min',on='Realtime').mean().dropna()"
   ]
  },
  {
   "cell_type": "code",
   "execution_count": 70,
   "metadata": {},
   "outputs": [],
   "source": [
    "#dfrel=df2.resample('1Min',on='Relative Time(h:min:s.ms)').mean()"
   ]
  },
  {
   "cell_type": "code",
   "execution_count": null,
   "metadata": {},
   "outputs": [],
   "source": [
    "#ds=df.resample('1min')"
   ]
  },
  {
   "cell_type": "markdown",
   "metadata": {},
   "source": [
    "#### Converting to csv"
   ]
  },
  {
   "cell_type": "code",
   "execution_count": 80,
   "metadata": {},
   "outputs": [],
   "source": [
    "dfmin.to_csv('detailDownSampled')"
   ]
  },
  {
   "cell_type": "code",
   "execution_count": 84,
   "metadata": {},
   "outputs": [],
   "source": [
    "df2min.to_csv('detailVolDownSampled')"
   ]
  },
  {
   "cell_type": "code",
   "execution_count": 82,
   "metadata": {},
   "outputs": [],
   "source": [
    "df3min.to_csv('detailTempDownSampled')"
   ]
  },
  {
   "cell_type": "code",
   "execution_count": null,
   "metadata": {},
   "outputs": [],
   "source": []
  }
 ],
 "metadata": {
  "kernelspec": {
   "display_name": "Python 3",
   "language": "python",
   "name": "python3"
  },
  "language_info": {
   "codemirror_mode": {
    "name": "ipython",
    "version": 3
   },
   "file_extension": ".py",
   "mimetype": "text/x-python",
   "name": "python",
   "nbconvert_exporter": "python",
   "pygments_lexer": "ipython3",
   "version": "3.8.5"
  }
 },
 "nbformat": 4,
 "nbformat_minor": 4
}
